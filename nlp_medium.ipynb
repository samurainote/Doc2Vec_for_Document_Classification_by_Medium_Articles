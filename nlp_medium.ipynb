{
 "cells": [
  {
   "cell_type": "code",
   "execution_count": 1,
   "metadata": {},
   "outputs": [],
   "source": [
    "import pandas as pd\n",
    "import matplotlib.pyplot as plt\n",
    "import seaborn as sns\n",
    "import numpy as np\n",
    "%matplotlib inline"
   ]
  },
  {
   "cell_type": "code",
   "execution_count": 20,
   "metadata": {},
   "outputs": [
    {
     "data": {
      "text/html": [
       "<div>\n",
       "<style scoped>\n",
       "    .dataframe tbody tr th:only-of-type {\n",
       "        vertical-align: middle;\n",
       "    }\n",
       "\n",
       "    .dataframe tbody tr th {\n",
       "        vertical-align: top;\n",
       "    }\n",
       "\n",
       "    .dataframe thead th {\n",
       "        text-align: right;\n",
       "    }\n",
       "</style>\n",
       "<table border=\"1\" class=\"dataframe\">\n",
       "  <thead>\n",
       "    <tr style=\"text-align: right;\">\n",
       "      <th></th>\n",
       "      <th>Unnamed: 0</th>\n",
       "      <th>0</th>\n",
       "      <th>1</th>\n",
       "      <th>2</th>\n",
       "      <th>3</th>\n",
       "      <th>4</th>\n",
       "      <th>5</th>\n",
       "      <th>6</th>\n",
       "      <th>7</th>\n",
       "      <th>8</th>\n",
       "      <th>9</th>\n",
       "      <th>10</th>\n",
       "    </tr>\n",
       "  </thead>\n",
       "  <tbody>\n",
       "    <tr>\n",
       "      <th>0</th>\n",
       "      <td>0</td>\n",
       "      <td>0</td>\n",
       "      <td>Alexander Crosson</td>\n",
       "      <td>172</td>\n",
       "      <td>1</td>\n",
       "      <td>4</td>\n",
       "      <td>NaN</td>\n",
       "      <td>3.0</td>\n",
       "      <td>NLP</td>\n",
       "      <td>Extracting names, emails and phone numbers</td>\n",
       "      <td>2016</td>\n",
       "      <td>https://medium.com/@acrosson/extracting-names-...</td>\n",
       "    </tr>\n",
       "    <tr>\n",
       "      <th>1</th>\n",
       "      <td>1</td>\n",
       "      <td>1</td>\n",
       "      <td>Alexis Perrier</td>\n",
       "      <td>45</td>\n",
       "      <td>1</td>\n",
       "      <td>4</td>\n",
       "      <td>NaN</td>\n",
       "      <td>8.0</td>\n",
       "      <td>NLP</td>\n",
       "      <td>Topic Modeling of Twitter Timelines in Python</td>\n",
       "      <td>2016</td>\n",
       "      <td>https://medium.com/@alexisperrier/topic-modeli...</td>\n",
       "    </tr>\n",
       "    <tr>\n",
       "      <th>2</th>\n",
       "      <td>2</td>\n",
       "      <td>2</td>\n",
       "      <td>satoru</td>\n",
       "      <td>56</td>\n",
       "      <td>1</td>\n",
       "      <td>4</td>\n",
       "      <td>NaN</td>\n",
       "      <td>1.0</td>\n",
       "      <td>NLP</td>\n",
       "      <td>How to manually download a nltk corpus?</td>\n",
       "      <td>2016</td>\n",
       "      <td>https://medium.com/@satorulogic/how-to-manuall...</td>\n",
       "    </tr>\n",
       "    <tr>\n",
       "      <th>3</th>\n",
       "      <td>3</td>\n",
       "      <td>3</td>\n",
       "      <td>Roy Pereira</td>\n",
       "      <td>50</td>\n",
       "      <td>1</td>\n",
       "      <td>4</td>\n",
       "      <td>Chatbots Magazine</td>\n",
       "      <td>5.0</td>\n",
       "      <td>NLP</td>\n",
       "      <td>The Three Levels of Usefulness for Chatbots</td>\n",
       "      <td>2016</td>\n",
       "      <td>https://chatbotsmagazine.com/the-three-levels-...</td>\n",
       "    </tr>\n",
       "    <tr>\n",
       "      <th>4</th>\n",
       "      <td>4</td>\n",
       "      <td>4</td>\n",
       "      <td>Abhishek Jha</td>\n",
       "      <td>3</td>\n",
       "      <td>1</td>\n",
       "      <td>4</td>\n",
       "      <td>NaN</td>\n",
       "      <td>3.0</td>\n",
       "      <td>NLP</td>\n",
       "      <td>Natural Language Processing(NLP) for Dummies!!</td>\n",
       "      <td>2016</td>\n",
       "      <td>https://medium.com/@jha0109/natural-language-p...</td>\n",
       "    </tr>\n",
       "  </tbody>\n",
       "</table>\n",
       "</div>"
      ],
      "text/plain": [
       "   Unnamed: 0  0                  1    2  3  4                  5    6    7  \\\n",
       "0           0  0  Alexander Crosson  172  1  4                NaN  3.0  NLP   \n",
       "1           1  1     Alexis Perrier   45  1  4                NaN  8.0  NLP   \n",
       "2           2  2             satoru   56  1  4                NaN  1.0  NLP   \n",
       "3           3  3        Roy Pereira   50  1  4  Chatbots Magazine  5.0  NLP   \n",
       "4           4  4       Abhishek Jha    3  1  4                NaN  3.0  NLP   \n",
       "\n",
       "                                                8     9  \\\n",
       "0      Extracting names, emails and phone numbers  2016   \n",
       "1   Topic Modeling of Twitter Timelines in Python  2016   \n",
       "2         How to manually download a nltk corpus?  2016   \n",
       "3     The Three Levels of Usefulness for Chatbots  2016   \n",
       "4  Natural Language Processing(NLP) for Dummies!!  2016   \n",
       "\n",
       "                                                  10  \n",
       "0  https://medium.com/@acrosson/extracting-names-...  \n",
       "1  https://medium.com/@alexisperrier/topic-modeli...  \n",
       "2  https://medium.com/@satorulogic/how-to-manuall...  \n",
       "3  https://chatbotsmagazine.com/the-three-levels-...  \n",
       "4  https://medium.com/@jha0109/natural-language-p...  "
      ]
     },
     "execution_count": 20,
     "metadata": {},
     "output_type": "execute_result"
    }
   ],
   "source": [
    "nlp_sum = pd.read_csv(\"nlp_sum.csv\")\n",
    "nlp_sum.head()"
   ]
  },
  {
   "cell_type": "code",
   "execution_count": 21,
   "metadata": {},
   "outputs": [
    {
     "data": {
      "text/plain": [
       "Index(['Unnamed: 0', '0', '1', '2', '3', '4', '5', '6', '7', '8', '9', '10'], dtype='object')"
      ]
     },
     "execution_count": 21,
     "metadata": {},
     "output_type": "execute_result"
    }
   ],
   "source": [
    "nlp_sum.columns"
   ]
  },
  {
   "cell_type": "code",
   "execution_count": 22,
   "metadata": {},
   "outputs": [],
   "source": [
    "nlp_sum.drop(['Unnamed: 0', '0'], axis=1, inplace=True)"
   ]
  },
  {
   "cell_type": "code",
   "execution_count": 23,
   "metadata": {},
   "outputs": [
    {
     "data": {
      "text/plain": [
       "Index(['1', '2', '3', '4', '5', '6', '7', '8', '9', '10'], dtype='object')"
      ]
     },
     "execution_count": 23,
     "metadata": {},
     "output_type": "execute_result"
    }
   ],
   "source": [
    "nlp_sum.columns"
   ]
  },
  {
   "cell_type": "code",
   "execution_count": 34,
   "metadata": {},
   "outputs": [],
   "source": [
    "#nlp_sum.rename(columns={'9':\"y\", '4':\"m\", '3':\"d\", '8':\"title\", '1':\"author\",  '5':\"publication\", '2':\"claps\",'6':\"readtime\", '7':\"tag\",   '10':\"url\"})\n",
    "nlp_sum = nlp_sum.rename(columns={'1':\"author\", '2':\"claps\", '3':\"d\", '4':\"m\", '5':\"publication\", '6':\"readtime\", '7':\"tag\", '8':\"title\", '9':\"y\", '10':\"url\"})"
   ]
  },
  {
   "cell_type": "code",
   "execution_count": 35,
   "metadata": {},
   "outputs": [
    {
     "data": {
      "text/plain": [
       "Index(['author', 'claps', 'd', 'm', 'publication', 'readtime', 'tag', 'title',\n",
       "       'y', 'url'],\n",
       "      dtype='object')"
      ]
     },
     "execution_count": 35,
     "metadata": {},
     "output_type": "execute_result"
    }
   ],
   "source": [
    "nlp_sum.columns"
   ]
  },
  {
   "cell_type": "code",
   "execution_count": 37,
   "metadata": {},
   "outputs": [],
   "source": [
    "nlp_sum = nlp_sum[[\"y\", \"m\", \"d\", \"title\", \"author\", \"publication\", \"claps\", \"readtime\", \"tag\", \"url\"]]"
   ]
  },
  {
   "cell_type": "code",
   "execution_count": 38,
   "metadata": {},
   "outputs": [],
   "source": [
    "nlp_sum.drop_duplicates(subset=[\"title\", \"author\"], inplace=True)"
   ]
  },
  {
   "cell_type": "code",
   "execution_count": 39,
   "metadata": {},
   "outputs": [
    {
     "data": {
      "text/plain": [
       "(4497, 10)"
      ]
     },
     "execution_count": 39,
     "metadata": {},
     "output_type": "execute_result"
    }
   ],
   "source": [
    "nlp_sum.shape"
   ]
  },
  {
   "cell_type": "code",
   "execution_count": 40,
   "metadata": {
    "scrolled": true
   },
   "outputs": [
    {
     "data": {
      "text/html": [
       "<div>\n",
       "<style scoped>\n",
       "    .dataframe tbody tr th:only-of-type {\n",
       "        vertical-align: middle;\n",
       "    }\n",
       "\n",
       "    .dataframe tbody tr th {\n",
       "        vertical-align: top;\n",
       "    }\n",
       "\n",
       "    .dataframe thead th {\n",
       "        text-align: right;\n",
       "    }\n",
       "</style>\n",
       "<table border=\"1\" class=\"dataframe\">\n",
       "  <thead>\n",
       "    <tr style=\"text-align: right;\">\n",
       "      <th></th>\n",
       "      <th>y</th>\n",
       "      <th>m</th>\n",
       "      <th>d</th>\n",
       "      <th>title</th>\n",
       "      <th>author</th>\n",
       "      <th>publication</th>\n",
       "      <th>claps</th>\n",
       "      <th>readtime</th>\n",
       "      <th>tag</th>\n",
       "      <th>url</th>\n",
       "    </tr>\n",
       "  </thead>\n",
       "  <tbody>\n",
       "    <tr>\n",
       "      <th>0</th>\n",
       "      <td>2016</td>\n",
       "      <td>4</td>\n",
       "      <td>1</td>\n",
       "      <td>Extracting names, emails and phone numbers</td>\n",
       "      <td>Alexander Crosson</td>\n",
       "      <td>NaN</td>\n",
       "      <td>172</td>\n",
       "      <td>3.0</td>\n",
       "      <td>NLP</td>\n",
       "      <td>https://medium.com/@acrosson/extracting-names-...</td>\n",
       "    </tr>\n",
       "    <tr>\n",
       "      <th>1</th>\n",
       "      <td>2016</td>\n",
       "      <td>4</td>\n",
       "      <td>1</td>\n",
       "      <td>Topic Modeling of Twitter Timelines in Python</td>\n",
       "      <td>Alexis Perrier</td>\n",
       "      <td>NaN</td>\n",
       "      <td>45</td>\n",
       "      <td>8.0</td>\n",
       "      <td>NLP</td>\n",
       "      <td>https://medium.com/@alexisperrier/topic-modeli...</td>\n",
       "    </tr>\n",
       "    <tr>\n",
       "      <th>2</th>\n",
       "      <td>2016</td>\n",
       "      <td>4</td>\n",
       "      <td>1</td>\n",
       "      <td>How to manually download a nltk corpus?</td>\n",
       "      <td>satoru</td>\n",
       "      <td>NaN</td>\n",
       "      <td>56</td>\n",
       "      <td>1.0</td>\n",
       "      <td>NLP</td>\n",
       "      <td>https://medium.com/@satorulogic/how-to-manuall...</td>\n",
       "    </tr>\n",
       "    <tr>\n",
       "      <th>3</th>\n",
       "      <td>2016</td>\n",
       "      <td>4</td>\n",
       "      <td>1</td>\n",
       "      <td>The Three Levels of Usefulness for Chatbots</td>\n",
       "      <td>Roy Pereira</td>\n",
       "      <td>Chatbots Magazine</td>\n",
       "      <td>50</td>\n",
       "      <td>5.0</td>\n",
       "      <td>NLP</td>\n",
       "      <td>https://chatbotsmagazine.com/the-three-levels-...</td>\n",
       "    </tr>\n",
       "    <tr>\n",
       "      <th>4</th>\n",
       "      <td>2016</td>\n",
       "      <td>4</td>\n",
       "      <td>1</td>\n",
       "      <td>Natural Language Processing(NLP) for Dummies!!</td>\n",
       "      <td>Abhishek Jha</td>\n",
       "      <td>NaN</td>\n",
       "      <td>3</td>\n",
       "      <td>3.0</td>\n",
       "      <td>NLP</td>\n",
       "      <td>https://medium.com/@jha0109/natural-language-p...</td>\n",
       "    </tr>\n",
       "  </tbody>\n",
       "</table>\n",
       "</div>"
      ],
      "text/plain": [
       "      y  m  d                                           title  \\\n",
       "0  2016  4  1      Extracting names, emails and phone numbers   \n",
       "1  2016  4  1   Topic Modeling of Twitter Timelines in Python   \n",
       "2  2016  4  1         How to manually download a nltk corpus?   \n",
       "3  2016  4  1     The Three Levels of Usefulness for Chatbots   \n",
       "4  2016  4  1  Natural Language Processing(NLP) for Dummies!!   \n",
       "\n",
       "              author        publication claps  readtime  tag  \\\n",
       "0  Alexander Crosson                NaN   172       3.0  NLP   \n",
       "1     Alexis Perrier                NaN    45       8.0  NLP   \n",
       "2             satoru                NaN    56       1.0  NLP   \n",
       "3        Roy Pereira  Chatbots Magazine    50       5.0  NLP   \n",
       "4       Abhishek Jha                NaN     3       3.0  NLP   \n",
       "\n",
       "                                                 url  \n",
       "0  https://medium.com/@acrosson/extracting-names-...  \n",
       "1  https://medium.com/@alexisperrier/topic-modeli...  \n",
       "2  https://medium.com/@satorulogic/how-to-manuall...  \n",
       "3  https://chatbotsmagazine.com/the-three-levels-...  \n",
       "4  https://medium.com/@jha0109/natural-language-p...  "
      ]
     },
     "execution_count": 40,
     "metadata": {},
     "output_type": "execute_result"
    }
   ],
   "source": [
    "nlp_sum.head()"
   ]
  },
  {
   "cell_type": "code",
   "execution_count": 42,
   "metadata": {},
   "outputs": [
    {
     "data": {
      "text/plain": [
       "y                 0\n",
       "m                 0\n",
       "d                 0\n",
       "title           152\n",
       "author            2\n",
       "publication    2368\n",
       "claps             0\n",
       "readtime        114\n",
       "tag               0\n",
       "url               0\n",
       "dtype: int64"
      ]
     },
     "execution_count": 42,
     "metadata": {},
     "output_type": "execute_result"
    }
   ],
   "source": [
    "nlp_sum.isnull().sum()"
   ]
  },
  {
   "cell_type": "code",
   "execution_count": 43,
   "metadata": {},
   "outputs": [],
   "source": [
    "nlp_sum[\"title\"].fillna(\"no_title\", inplace=True)"
   ]
  },
  {
   "cell_type": "code",
   "execution_count": 44,
   "metadata": {},
   "outputs": [],
   "source": [
    "counter = 0\n",
    "tutolials = []\n",
    "\n",
    "for x in nlp_sum[\"title\"]:\n",
    "    if \"tutorial\" in x:\n",
    "        tutolials.append(counter)\n",
    "        counter += 1\n",
    "    elif \"Tutorial\" in x:\n",
    "        tutolials.append(counter)\n",
    "        counter += 1\n",
    "    else:\n",
    "        counter += 1"
   ]
  },
  {
   "cell_type": "code",
   "execution_count": 45,
   "metadata": {},
   "outputs": [
    {
     "data": {
      "text/plain": [
       "27"
      ]
     },
     "execution_count": 45,
     "metadata": {},
     "output_type": "execute_result"
    }
   ],
   "source": [
    "len(tutolials)"
   ]
  },
  {
   "cell_type": "code",
   "execution_count": 49,
   "metadata": {},
   "outputs": [],
   "source": [
    "tutolial_url = nlp_sum.iloc[tutolials, 9]"
   ]
  },
  {
   "cell_type": "code",
   "execution_count": 50,
   "metadata": {},
   "outputs": [
    {
     "data": {
      "text/plain": [
       "942      https://cli.traan.vn/how-to-create-a-facebook-...\n",
       "944      https://rominirani.com/tutorial-google-cloud-n...\n",
       "2146     https://medium.com/machine-learning-in-practic...\n",
       "2646     https://medium.com/@SAPCAI/turning-your-chatbo...\n",
       "2690     https://medium.com/easyread/tutorial-pembuatan...\n",
       "2812     https://chatbotsmagazine.com/nodejs-chatbot-tu...\n",
       "3244     https://medium.com/@mishra.thedeepak/doc2vec-s...\n",
       "3441     https://medium.com/dair-ai/textql-colorless-gr...\n",
       "3547     https://medium.com/sciforce/nlp-in-online-cour...\n",
       "3570     https://medium.com/datos-y-ciencia/preprocesam...\n",
       "3950     https://medium.com/nearist-ai/word2vec-tutoria...\n",
       "3951     https://medium.com/nearist-ai/word2vec-tutoria...\n",
       "4188     https://planetachatbot.com/tutorial-implementa...\n",
       "4302     https://medium.com/dair-ai/deep-infomax-image-...\n",
       "4461     https://medium.com/@qempsil0914/machine-learni...\n",
       "4509     https://medium.com/@ishan.cdixit/pythons-natur...\n",
       "4769     https://medium.com/@robeceiro/golang-dialogflo...\n",
       "4897     https://medium.com/lily-lab/tutorialbank-ab7e9...\n",
       "4951     https://medium.com/analytics-vidhya/tutorial-o...\n",
       "4997     https://medium.com/@rohit.sharma_7010/a-comple...\n",
       "5356     https://hackernoon.com/abstractive-text-summar...\n",
       "5397     https://medium.com/analytics-vidhya/a-must-rea...\n",
       "5526     https://medium.com/@dcameronsteinke/tf-idf-vs-...\n",
       "9466     https://insights.untapt.com/deep-learning-for-...\n",
       "10686    https://medium.com/@venali/tutorial-series-on-...\n",
       "10726    https://medium.com/@ishan.cdixit/pythons-natur...\n",
       "10833    https://medium.com/@ishan.cdixit/pythons-natur...\n",
       "Name: url, dtype: object"
      ]
     },
     "execution_count": 50,
     "metadata": {},
     "output_type": "execute_result"
    }
   ],
   "source": [
    "tutolial_url"
   ]
  },
  {
   "cell_type": "code",
   "execution_count": 51,
   "metadata": {},
   "outputs": [],
   "source": [
    "tutolial_titles = nlp_sum.iloc[tutolials, 3]"
   ]
  },
  {
   "cell_type": "code",
   "execution_count": 52,
   "metadata": {},
   "outputs": [
    {
     "data": {
      "text/plain": [
       "942      How to create a Facebook Bot in 10 minutes: Th...\n",
       "944           Tutorial : Google Cloud Natural Language API\n",
       "2146     Over 150 of the Best Machine Learning, NLP, an...\n",
       "2646     Turning your chatbot into an Alexa skill: a st...\n",
       "2690     Tutorial pembuatan Bot peminjaman barang seder...\n",
       "2812     NodeJS chatbot tutorial: A movie bot with Reca...\n",
       "3244                               DOC2VEC gensim tutorial\n",
       "3441     TextQL, Colorless Green RNNs, ConvAI2, Machine...\n",
       "3547     Here is another one tutorial by Richard Socher...\n",
       "3570     Preprocesamiento de datos de texto: un tutoria...\n",
       "3950                  Word2Vec TutorialThe Skip-Gram Model\n",
       "3951             Word2Vec Tutorial Part 2Negative Sampling\n",
       "4188          Tutorial: Implementando un chatbot en Django\n",
       "4302     Deep INFOMAX, Image to Image Translation, FEVE...\n",
       "4461     Machine Learning, NLP: Text-Classification wit...\n",
       "4509     Pythons Natural Language Tool Kit (NLTK) Tutor...\n",
       "4769                    Google Dialogflows Golang Tutorial\n",
       "4897                                          TutorialBank\n",
       "4951     Tutorial on Text Classification (NLP) using UL...\n",
       "4997     A complete tutorial for Named Entity Recogniti...\n",
       "5356     Abstractive Text Summarization (tutorial  2) ,...\n",
       "5397     A Must-Read NLP Tutorial on Neural Machine Tra...\n",
       "5526     TF-IDF vs Word Embedding, a comparison and cod...\n",
       "9466     Deep Learning for Natural Language Processing:...\n",
       "10686    Tutorial Series on NLP: Information Extraction...\n",
       "10726    Pythons Natural Language Tool Kit (NLTK) Tutor...\n",
       "10833    Pythons Natural Language Tool Kit (NLTK) Tutor...\n",
       "Name: title, dtype: object"
      ]
     },
     "execution_count": 52,
     "metadata": {},
     "output_type": "execute_result"
    }
   ],
   "source": [
    "tutolial_titles"
   ]
  },
  {
   "cell_type": "code",
   "execution_count": 53,
   "metadata": {},
   "outputs": [],
   "source": [
    "nlp_srted = nlp_sum.sort_values(by=\"claps\", ascending=False)"
   ]
  },
  {
   "cell_type": "code",
   "execution_count": 54,
   "metadata": {},
   "outputs": [
    {
     "data": {
      "text/html": [
       "<div>\n",
       "<style scoped>\n",
       "    .dataframe tbody tr th:only-of-type {\n",
       "        vertical-align: middle;\n",
       "    }\n",
       "\n",
       "    .dataframe tbody tr th {\n",
       "        vertical-align: top;\n",
       "    }\n",
       "\n",
       "    .dataframe thead th {\n",
       "        text-align: right;\n",
       "    }\n",
       "</style>\n",
       "<table border=\"1\" class=\"dataframe\">\n",
       "  <thead>\n",
       "    <tr style=\"text-align: right;\">\n",
       "      <th></th>\n",
       "      <th>y</th>\n",
       "      <th>m</th>\n",
       "      <th>d</th>\n",
       "      <th>title</th>\n",
       "      <th>author</th>\n",
       "      <th>publication</th>\n",
       "      <th>claps</th>\n",
       "      <th>readtime</th>\n",
       "      <th>tag</th>\n",
       "      <th>url</th>\n",
       "    </tr>\n",
       "  </thead>\n",
       "  <tbody>\n",
       "    <tr>\n",
       "      <th>4040</th>\n",
       "      <td>2018</td>\n",
       "      <td>7</td>\n",
       "      <td>21</td>\n",
       "      <td>Sentiment Analysis with Python (Part 1)</td>\n",
       "      <td>Aaron Kub</td>\n",
       "      <td>Towards Data Science</td>\n",
       "      <td>998</td>\n",
       "      <td>6.0</td>\n",
       "      <td>NLP</td>\n",
       "      <td>https://towardsdatascience.com/sentiment-analy...</td>\n",
       "    </tr>\n",
       "    <tr>\n",
       "      <th>4473</th>\n",
       "      <td>2018</td>\n",
       "      <td>9</td>\n",
       "      <td>24</td>\n",
       "      <td>Create your chatbot using Python NLTK</td>\n",
       "      <td>Riti Dass</td>\n",
       "      <td>NaN</td>\n",
       "      <td>99</td>\n",
       "      <td>10.0</td>\n",
       "      <td>NLP</td>\n",
       "      <td>https://medium.com/@ritidass29/create-your-cha...</td>\n",
       "    </tr>\n",
       "    <tr>\n",
       "      <th>4980</th>\n",
       "      <td>2018</td>\n",
       "      <td>12</td>\n",
       "      <td>3</td>\n",
       "      <td>HMTL - Multi-task Learning for solving NLP Tasks</td>\n",
       "      <td>Rani Horev</td>\n",
       "      <td>Towards Data Science</td>\n",
       "      <td>99</td>\n",
       "      <td>7.0</td>\n",
       "      <td>NLP</td>\n",
       "      <td>https://towardsdatascience.com/hmtl-multi-task...</td>\n",
       "    </tr>\n",
       "    <tr>\n",
       "      <th>2839</th>\n",
       "      <td>2017</td>\n",
       "      <td>12</td>\n",
       "      <td>3</td>\n",
       "      <td>Overlapping text annotations</td>\n",
       "      <td>tagtog</td>\n",
       "      <td>NaN</td>\n",
       "      <td>99</td>\n",
       "      <td>2.0</td>\n",
       "      <td>NLP</td>\n",
       "      <td>https://medium.com/@tagtog/overlapping-text-an...</td>\n",
       "    </tr>\n",
       "    <tr>\n",
       "      <th>4835</th>\n",
       "      <td>2018</td>\n",
       "      <td>11</td>\n",
       "      <td>11</td>\n",
       "      <td>You Want to Go Viral? Then Say SoHere Are 3 Si...</td>\n",
       "      <td>Manuel Amunategui</td>\n",
       "      <td>Marketing And Growth Hacking</td>\n",
       "      <td>99</td>\n",
       "      <td>5.0</td>\n",
       "      <td>NLP</td>\n",
       "      <td>https://blog.markgrowth.com/you-want-to-go-vir...</td>\n",
       "    </tr>\n",
       "  </tbody>\n",
       "</table>\n",
       "</div>"
      ],
      "text/plain": [
       "         y   m   d                                              title  \\\n",
       "4040  2018   7  21            Sentiment Analysis with Python (Part 1)   \n",
       "4473  2018   9  24              Create your chatbot using Python NLTK   \n",
       "4980  2018  12   3   HMTL - Multi-task Learning for solving NLP Tasks   \n",
       "2839  2017  12   3                       Overlapping text annotations   \n",
       "4835  2018  11  11  You Want to Go Viral? Then Say SoHere Are 3 Si...   \n",
       "\n",
       "                 author                   publication claps  readtime  tag  \\\n",
       "4040          Aaron Kub          Towards Data Science   998       6.0  NLP   \n",
       "4473          Riti Dass                           NaN    99      10.0  NLP   \n",
       "4980         Rani Horev          Towards Data Science    99       7.0  NLP   \n",
       "2839             tagtog                           NaN    99       2.0  NLP   \n",
       "4835  Manuel Amunategui  Marketing And Growth Hacking    99       5.0  NLP   \n",
       "\n",
       "                                                    url  \n",
       "4040  https://towardsdatascience.com/sentiment-analy...  \n",
       "4473  https://medium.com/@ritidass29/create-your-cha...  \n",
       "4980  https://towardsdatascience.com/hmtl-multi-task...  \n",
       "2839  https://medium.com/@tagtog/overlapping-text-an...  \n",
       "4835  https://blog.markgrowth.com/you-want-to-go-vir...  "
      ]
     },
     "execution_count": 54,
     "metadata": {},
     "output_type": "execute_result"
    }
   ],
   "source": [
    "nlp_srted.head()"
   ]
  },
  {
   "cell_type": "code",
   "execution_count": 56,
   "metadata": {},
   "outputs": [],
   "source": [
    "K_list = []\n",
    "counter = 0\n",
    "\n",
    "for n in nlp_sum[\"claps\"]:\n",
    "    if \"K\" in n:\n",
    "        K_list.append(counter)\n",
    "        counter += 1\n",
    "    else:\n",
    "        counter += 1"
   ]
  },
  {
   "cell_type": "code",
   "execution_count": 57,
   "metadata": {},
   "outputs": [],
   "source": [
    "nlp_sum[\"claps\"] = nlp_sum[\"claps\"].apply(lambda x: x.replace(\"K\", \"000\"))"
   ]
  },
  {
   "cell_type": "code",
   "execution_count": 58,
   "metadata": {},
   "outputs": [],
   "source": [
    "conma_list = []\n",
    "counter = 0\n",
    "\n",
    "for n in nlp_sum[\"claps\"]:\n",
    "    if \".\" in n:\n",
    "        conma_list.append(counter)\n",
    "        counter += 1\n",
    "    else:\n",
    "        counter += 1"
   ]
  },
  {
   "cell_type": "code",
   "execution_count": 59,
   "metadata": {},
   "outputs": [],
   "source": [
    "for i in conma_list:\n",
    "    nlp_sum.iloc[i, 6] = nlp_sum.iloc[i, 6].replace(\".\", \"\")[:-1]"
   ]
  },
  {
   "cell_type": "code",
   "execution_count": 60,
   "metadata": {},
   "outputs": [],
   "source": [
    "nlp_sum[\"claps\"] = nlp_sum[\"claps\"].astype(int)"
   ]
  },
  {
   "cell_type": "code",
   "execution_count": 62,
   "metadata": {},
   "outputs": [
    {
     "data": {
      "text/html": [
       "<div>\n",
       "<style scoped>\n",
       "    .dataframe tbody tr th:only-of-type {\n",
       "        vertical-align: middle;\n",
       "    }\n",
       "\n",
       "    .dataframe tbody tr th {\n",
       "        vertical-align: top;\n",
       "    }\n",
       "\n",
       "    .dataframe thead th {\n",
       "        text-align: right;\n",
       "    }\n",
       "</style>\n",
       "<table border=\"1\" class=\"dataframe\">\n",
       "  <thead>\n",
       "    <tr style=\"text-align: right;\">\n",
       "      <th></th>\n",
       "      <th>y</th>\n",
       "      <th>m</th>\n",
       "      <th>d</th>\n",
       "      <th>title</th>\n",
       "      <th>author</th>\n",
       "      <th>publication</th>\n",
       "      <th>claps</th>\n",
       "      <th>readtime</th>\n",
       "      <th>tag</th>\n",
       "      <th>url</th>\n",
       "    </tr>\n",
       "  </thead>\n",
       "  <tbody>\n",
       "    <tr>\n",
       "      <th>2287</th>\n",
       "      <td>2017</td>\n",
       "      <td>7</td>\n",
       "      <td>23</td>\n",
       "      <td>Machine Learning, NLP: Text Classification usi...</td>\n",
       "      <td>Javed Shaikh</td>\n",
       "      <td>Towards Data Science</td>\n",
       "      <td>49500</td>\n",
       "      <td>7.0</td>\n",
       "      <td>NLP</td>\n",
       "      <td>https://towardsdatascience.com/machine-learnin...</td>\n",
       "    </tr>\n",
       "    <tr>\n",
       "      <th>3505</th>\n",
       "      <td>2018</td>\n",
       "      <td>4</td>\n",
       "      <td>21</td>\n",
       "      <td>Multi Label Text Classification with Scikit-Learn</td>\n",
       "      <td>Susan Li</td>\n",
       "      <td>Towards Data Science</td>\n",
       "      <td>19600</td>\n",
       "      <td>6.0</td>\n",
       "      <td>NLP</td>\n",
       "      <td>https://towardsdatascience.com/multi-label-tex...</td>\n",
       "    </tr>\n",
       "    <tr>\n",
       "      <th>4012</th>\n",
       "      <td>2018</td>\n",
       "      <td>7</td>\n",
       "      <td>17</td>\n",
       "      <td>Report on Text Classification using CNN, RNN &amp;...</td>\n",
       "      <td>Akshat Maheshwari</td>\n",
       "      <td>Jatana</td>\n",
       "      <td>19300</td>\n",
       "      <td>8.0</td>\n",
       "      <td>NLP</td>\n",
       "      <td>https://medium.com/jatana/report-on-text-class...</td>\n",
       "    </tr>\n",
       "    <tr>\n",
       "      <th>4208</th>\n",
       "      <td>2018</td>\n",
       "      <td>8</td>\n",
       "      <td>17</td>\n",
       "      <td>Named Entity Recognition with NLTK and SpaCy</td>\n",
       "      <td>Susan Li</td>\n",
       "      <td>Towards Data Science</td>\n",
       "      <td>19200</td>\n",
       "      <td>6.0</td>\n",
       "      <td>NLP</td>\n",
       "      <td>https://towardsdatascience.com/named-entity-re...</td>\n",
       "    </tr>\n",
       "    <tr>\n",
       "      <th>4021</th>\n",
       "      <td>2018</td>\n",
       "      <td>7</td>\n",
       "      <td>18</td>\n",
       "      <td>Natural Language Processing is Fun!</td>\n",
       "      <td>Adam Geitgey</td>\n",
       "      <td>NaN</td>\n",
       "      <td>12900</td>\n",
       "      <td>16.0</td>\n",
       "      <td>NLP</td>\n",
       "      <td>https://medium.com/@ageitgey/natural-language-...</td>\n",
       "    </tr>\n",
       "    <tr>\n",
       "      <th>2146</th>\n",
       "      <td>2017</td>\n",
       "      <td>6</td>\n",
       "      <td>11</td>\n",
       "      <td>Over 150 of the Best Machine Learning, NLP, an...</td>\n",
       "      <td>Robbie Allen</td>\n",
       "      <td>Machine Learning in Practice</td>\n",
       "      <td>9400</td>\n",
       "      <td>7.0</td>\n",
       "      <td>NLP</td>\n",
       "      <td>https://medium.com/machine-learning-in-practic...</td>\n",
       "    </tr>\n",
       "    <tr>\n",
       "      <th>3008</th>\n",
       "      <td>2018</td>\n",
       "      <td>1</td>\n",
       "      <td>11</td>\n",
       "      <td>I trained fake news detection AI with &gt;95% acc...</td>\n",
       "      <td>Aaron Edell</td>\n",
       "      <td>Towards Data Science</td>\n",
       "      <td>7800</td>\n",
       "      <td>7.0</td>\n",
       "      <td>NLP</td>\n",
       "      <td>https://towardsdatascience.com/i-trained-fake-...</td>\n",
       "    </tr>\n",
       "    <tr>\n",
       "      <th>3121</th>\n",
       "      <td>2018</td>\n",
       "      <td>2</td>\n",
       "      <td>2</td>\n",
       "      <td>Multi-Class Text Classification with Scikit-Learn</td>\n",
       "      <td>Susan Li</td>\n",
       "      <td>Towards Data Science</td>\n",
       "      <td>6200</td>\n",
       "      <td>11.0</td>\n",
       "      <td>NLP</td>\n",
       "      <td>https://towardsdatascience.com/multi-class-tex...</td>\n",
       "    </tr>\n",
       "    <tr>\n",
       "      <th>3628</th>\n",
       "      <td>2018</td>\n",
       "      <td>5</td>\n",
       "      <td>14</td>\n",
       "      <td>The Current Best of Universal Word Embeddings ...</td>\n",
       "      <td>Thomas Wolf</td>\n",
       "      <td>HuggingFace</td>\n",
       "      <td>5200</td>\n",
       "      <td>9.0</td>\n",
       "      <td>NLP</td>\n",
       "      <td>https://medium.com/huggingface/universal-word-...</td>\n",
       "    </tr>\n",
       "    <tr>\n",
       "      <th>4420</th>\n",
       "      <td>2018</td>\n",
       "      <td>9</td>\n",
       "      <td>17</td>\n",
       "      <td>Building a Simple Chatbot from Scratch in Pyth...</td>\n",
       "      <td>Parul Pandey</td>\n",
       "      <td>Analytics Vidhya</td>\n",
       "      <td>4800</td>\n",
       "      <td>11.0</td>\n",
       "      <td>NLP</td>\n",
       "      <td>https://medium.com/analytics-vidhya/building-a...</td>\n",
       "    </tr>\n",
       "  </tbody>\n",
       "</table>\n",
       "</div>"
      ],
      "text/plain": [
       "         y  m   d                                              title  \\\n",
       "2287  2017  7  23  Machine Learning, NLP: Text Classification usi...   \n",
       "3505  2018  4  21  Multi Label Text Classification with Scikit-Learn   \n",
       "4012  2018  7  17  Report on Text Classification using CNN, RNN &...   \n",
       "4208  2018  8  17       Named Entity Recognition with NLTK and SpaCy   \n",
       "4021  2018  7  18                Natural Language Processing is Fun!   \n",
       "2146  2017  6  11  Over 150 of the Best Machine Learning, NLP, an...   \n",
       "3008  2018  1  11  I trained fake news detection AI with >95% acc...   \n",
       "3121  2018  2   2  Multi-Class Text Classification with Scikit-Learn   \n",
       "3628  2018  5  14  The Current Best of Universal Word Embeddings ...   \n",
       "4420  2018  9  17  Building a Simple Chatbot from Scratch in Pyth...   \n",
       "\n",
       "                 author                   publication  claps  readtime  tag  \\\n",
       "2287       Javed Shaikh          Towards Data Science  49500       7.0  NLP   \n",
       "3505           Susan Li          Towards Data Science  19600       6.0  NLP   \n",
       "4012  Akshat Maheshwari                        Jatana  19300       8.0  NLP   \n",
       "4208           Susan Li          Towards Data Science  19200       6.0  NLP   \n",
       "4021       Adam Geitgey                           NaN  12900      16.0  NLP   \n",
       "2146       Robbie Allen  Machine Learning in Practice   9400       7.0  NLP   \n",
       "3008        Aaron Edell          Towards Data Science   7800       7.0  NLP   \n",
       "3121           Susan Li          Towards Data Science   6200      11.0  NLP   \n",
       "3628        Thomas Wolf                   HuggingFace   5200       9.0  NLP   \n",
       "4420       Parul Pandey              Analytics Vidhya   4800      11.0  NLP   \n",
       "\n",
       "                                                    url  \n",
       "2287  https://towardsdatascience.com/machine-learnin...  \n",
       "3505  https://towardsdatascience.com/multi-label-tex...  \n",
       "4012  https://medium.com/jatana/report-on-text-class...  \n",
       "4208  https://towardsdatascience.com/named-entity-re...  \n",
       "4021  https://medium.com/@ageitgey/natural-language-...  \n",
       "2146  https://medium.com/machine-learning-in-practic...  \n",
       "3008  https://towardsdatascience.com/i-trained-fake-...  \n",
       "3121  https://towardsdatascience.com/multi-class-tex...  \n",
       "3628  https://medium.com/huggingface/universal-word-...  \n",
       "4420  https://medium.com/analytics-vidhya/building-a...  "
      ]
     },
     "execution_count": 62,
     "metadata": {},
     "output_type": "execute_result"
    }
   ],
   "source": [
    "nlp_sorted = nlp_sum.sort_values(by=\"claps\", ascending=False)\n",
    "nlp_sorted.head(10)"
   ]
  },
  {
   "cell_type": "code",
   "execution_count": 63,
   "metadata": {},
   "outputs": [
    {
     "data": {
      "text/plain": [
       "2287    https://towardsdatascience.com/machine-learnin...\n",
       "3505    https://towardsdatascience.com/multi-label-tex...\n",
       "4012    https://medium.com/jatana/report-on-text-class...\n",
       "4208    https://towardsdatascience.com/named-entity-re...\n",
       "4021    https://medium.com/@ageitgey/natural-language-...\n",
       "2146    https://medium.com/machine-learning-in-practic...\n",
       "3008    https://towardsdatascience.com/i-trained-fake-...\n",
       "3121    https://towardsdatascience.com/multi-class-tex...\n",
       "3628    https://medium.com/huggingface/universal-word-...\n",
       "4420    https://medium.com/analytics-vidhya/building-a...\n",
       "4808    https://medium.com/analytics-vidhya/python-lib...\n",
       "3830    https://medium.com/huggingface/100-times-faste...\n",
       "3724    https://towardsdatascience.com/semantic-code-s...\n",
       "3705    https://medium.com/nanonets/topic-modeling-wit...\n",
       "3048    https://towardsdatascience.com/how-to-create-d...\n",
       "4634    https://medium.com/huggingface/training-larger...\n",
       "2246    https://towardsdatascience.com/learn-word2vec-...\n",
       "9686    https://codeburst.io/how-i-generated-inspirati...\n",
       "3402    https://medium.com/huggingface/from-zero-to-re...\n",
       "3242    https://towardsdatascience.com/nlp-building-a-...\n",
       "Name: url, dtype: object"
      ]
     },
     "execution_count": 63,
     "metadata": {},
     "output_type": "execute_result"
    }
   ],
   "source": [
    "nlp_sorted.iloc[:20, 9]"
   ]
  },
  {
   "cell_type": "code",
   "execution_count": 65,
   "metadata": {},
   "outputs": [],
   "source": [
    "nlp_over1k = nlp_sorted[nlp_sorted[\"claps\"]>=1000]"
   ]
  },
  {
   "cell_type": "code",
   "execution_count": 67,
   "metadata": {},
   "outputs": [
    {
     "data": {
      "text/plain": [
       "76"
      ]
     },
     "execution_count": 67,
     "metadata": {},
     "output_type": "execute_result"
    }
   ],
   "source": [
    "len(nlp_over1k)"
   ]
  },
  {
   "cell_type": "code",
   "execution_count": 69,
   "metadata": {},
   "outputs": [
    {
     "data": {
      "text/plain": [
       "array(['Javed Shaikh', 'Susan Li', 'Akshat Maheshwari', 'Adam Geitgey',\n",
       "       'Robbie Allen', 'Aaron Edell', 'Thomas Wolf', 'Parul Pandey',\n",
       "       'Hamel Husain', 'Joyce Xu', 'aneesh joshi', 'Ramtin Alami',\n",
       "       'Priya Dwivedi', 'Gidi Shperber', '  Steeve Huang',\n",
       "       'Suvro Banerjee', 'Greg Rafferty', 'Kushal Chauhan', 'Ricky Kim',\n",
       "       'Alvira Swalin', 'Max Frenzel', 'Chamin Nalinda', 'Niklas Donges',\n",
       "       'Data Monsters', 'yonatan hadar', 'Elvis', 'Gunnvant Saini',\n",
       "       'Roman Kierzkowski', 'Melanie Tosik', 'AaronAri) Bornstein',\n",
       "       'Sebastian Kwiatkowski', 'Jesse Vig', 'Jaley Dholakiya',\n",
       "       'James Le', 'PopcornApps', 'Miguel Romero Calvo', 'Nathaniel Kohn',\n",
       "       'Alan Nichol', 'Carl Dombrowski', 'Galina Olejnik',\n",
       "       'Alex P. Miller', 'Max Lawnboy', 'Rachael Tatman', 'Tadej Magajna',\n",
       "       'Javed Qadrud-Din', ' ', 'sigmoider', 'Daniel Jeffries',\n",
       "       'Lars Hulstaert'], dtype=object)"
      ]
     },
     "execution_count": 69,
     "metadata": {},
     "output_type": "execute_result"
    }
   ],
   "source": [
    "len(nlp_over1k[\"author\"].unique())"
   ]
  },
  {
   "cell_type": "code",
   "execution_count": 70,
   "metadata": {},
   "outputs": [
    {
     "data": {
      "text/plain": [
       "49"
      ]
     },
     "execution_count": 70,
     "metadata": {},
     "output_type": "execute_result"
    }
   ],
   "source": [
    "len(nlp_over1k[\"author\"].unique())"
   ]
  },
  {
   "cell_type": "code",
   "execution_count": 71,
   "metadata": {},
   "outputs": [
    {
     "data": {
      "text/plain": [
       "<matplotlib.axes._subplots.AxesSubplot at 0x11f8a70f0>"
      ]
     },
     "execution_count": 71,
     "metadata": {},
     "output_type": "execute_result"
    },
    {
     "data": {
      "image/png": "[encoded data removed]",
      "text/plain": [
       "<Figure size 432x288 with 1 Axes>"
      ]
     },
     "metadata": {
      "needs_background": "light"
     },
     "output_type": "display_data"
    }
   ],
   "source": [
    "sns.countplot(x=\"author\", data=nlp_over1k)"
   ]
  },
  {
   "cell_type": "code",
   "execution_count": 76,
   "metadata": {},
   "outputs": [
    {
     "data": {
      "text/plain": [
       "Susan Li          12\n",
       "Thomas Wolf        7\n",
       "Robbie Allen       2\n",
       "Parul Pandey       2\n",
       "Max Frenzel        2\n",
       "Priya Dwivedi      2\n",
       "James Le           2\n",
       "Hamel Husain       2\n",
       "Alvira Swalin      2\n",
       "Elvis              2\n",
       "Data Monsters      2\n",
       "Gunnvant Saini     2\n",
       "Name: author, dtype: int64"
      ]
     },
     "execution_count": 76,
     "metadata": {},
     "output_type": "execute_result"
    }
   ],
   "source": [
    "nlp_over1k[\"author\"].value_counts().head(12)"
   ]
  },
  {
   "cell_type": "code",
   "execution_count": 80,
   "metadata": {},
   "outputs": [
    {
     "data": {
      "text/plain": [
       "'https://medium.com/huggingface/universal-word-sentence-embeddings-ce48ddc8fc3a?source=tag_archive---------0---------------------'"
      ]
     },
     "execution_count": 80,
     "metadata": {},
     "output_type": "execute_result"
    }
   ],
   "source": [
    "nlp_sorted.iloc[8, 9]"
   ]
  },
  {
   "cell_type": "code",
   "execution_count": null,
   "metadata": {},
   "outputs": [],
   "source": []
  }
 ],
 "metadata": {
  "kernelspec": {
   "display_name": "Python 3",
   "language": "python",
   "name": "python3"
  },
  "language_info": {
   "codemirror_mode": {
    "name": "ipython",
    "version": 3
   },
   "file_extension": ".py",
   "mimetype": "text/x-python",
   "name": "python",
   "nbconvert_exporter": "python",
   "pygments_lexer": "ipython3",
   "version": "3.5.1"
  }
 },
 "nbformat": 4,
 "nbformat_minor": 2
}
