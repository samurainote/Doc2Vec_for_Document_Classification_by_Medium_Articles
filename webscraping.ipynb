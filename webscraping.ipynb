{
 "cells": [
  {
   "cell_type": "code",
   "execution_count": 12,
   "metadata": {},
   "outputs": [],
   "source": [
    "from lxml import html\n",
    "import bs4"
   ]
  },
  {
   "cell_type": "code",
   "execution_count": 10,
   "metadata": {},
   "outputs": [
    {
     "name": "stdout",
     "output_type": "stream",
     "text": [
      "<!-- This is the example.html example file. --><html><head><title>The Website Title</title></head>\n",
      "<body>\n",
      "<p>Download my <strong>Python</strong> book from <a href=\"http://inventwithpython.com\">my website</a>.</p>\n",
      "<p class=\"slogan\">Learn Python the easy way!</p>\n",
      "<p>By <span id=\"author\">Al Sweigart</span></p>\n",
      "</body>\n",
      "</html>\n",
      "\n"
     ]
    }
   ],
   "source": [
    "example_sample = open(\"example.html\")\n",
    "soup_object = bs4.BeautifulSoup(example_sample, \"lxml\")\n",
    "print(soup_object)"
   ]
  },
  {
   "cell_type": "code",
   "execution_count": 9,
   "metadata": {},
   "outputs": [
    {
     "name": "stdout",
     "output_type": "stream",
     "text": [
      "[<p>Download my <strong>Python</strong> book from <a href=\"http://inventwithpython.com\">my website</a>.</p>, <p class=\"slogan\">Learn Python the easy way!</p>, <p>By <span id=\"author\">Al Sweigart</span></p>]\n"
     ]
    }
   ],
   "source": [
    "p_tag = soup_object.select(\"p\")\n",
    "print(p_tag)"
   ]
  },
  {
   "cell_type": "code",
   "execution_count": 7,
   "metadata": {},
   "outputs": [
    {
     "name": "stdout",
     "output_type": "stream",
     "text": [
      "Download my Python book from my website.\n",
      "Learn Python the easy way!\n",
      "By Al Sweigart\n"
     ]
    }
   ],
   "source": [
    "for i in range(0, len(p_tag)):\n",
    "    print(p_tag[i].text)"
   ]
  },
  {
   "cell_type": "code",
   "execution_count": 15,
   "metadata": {},
   "outputs": [
    {
     "name": "stdout",
     "output_type": "stream",
     "text": [
      "<!DOCTYPE html>\n",
      "<html>\n",
      "<body>\n",
      "<h2> Welcome To Flask Tutorial </h2>\n",
      "<p> This is a <strong>paragraph</strong> </p>\n",
      "<p> This is a <i>Italic</i> </p>\n",
      "<a href=\"http://www.google.com\">This is Google </a>\n",
      "<ol>\n",
      "<li>Search for text in a file or across multiple files</li>\n",
      "<li>Create, update, move, and rename files and folders</li>\n",
      "<li>Search the Web and download online content</li>\n",
      "<li>Update and format data in Excel spreadsheets of any size</li>\n",
      "<li>Split, merge, watermark, and encrypt PDFs</li>\n",
      "<li>Send reminder emails and text notifications</li>\n",
      "<li>Fill out online forms</li>\n",
      "</ol>\n",
      "</body>\n",
      "</html>\n"
     ]
    }
   ],
   "source": [
    "welcome = open(\"welcome.html\")\n",
    "tree = bs4.BeautifulSoup(welcome, \"lxml\")\n",
    "print(tree)"
   ]
  },
  {
   "cell_type": "code",
   "execution_count": 16,
   "metadata": {},
   "outputs": [
    {
     "name": "stdout",
     "output_type": "stream",
     "text": [
      "[<li>Search for text in a file or across multiple files</li>, <li>Create, update, move, and rename files and folders</li>, <li>Search the Web and download online content</li>, <li>Update and format data in Excel spreadsheets of any size</li>, <li>Split, merge, watermark, and encrypt PDFs</li>, <li>Send reminder emails and text notifications</li>, <li>Fill out online forms</li>]\n"
     ]
    }
   ],
   "source": [
    "li_tag = tree.select(\"li\")\n",
    "print(li_tag)"
   ]
  },
  {
   "cell_type": "code",
   "execution_count": 17,
   "metadata": {},
   "outputs": [
    {
     "name": "stdout",
     "output_type": "stream",
     "text": [
      "Search for text in a file or across multiple files\n",
      "Create, update, move, and rename files and folders\n",
      "Search the Web and download online content\n",
      "Update and format data in Excel spreadsheets of any size\n",
      "Split, merge, watermark, and encrypt PDFs\n",
      "Send reminder emails and text notifications\n",
      "Fill out online forms\n"
     ]
    }
   ],
   "source": [
    "for i in range(0, len(li_tag)):\n",
    "    print(li_tag[i].text)"
   ]
  },
  {
   "cell_type": "code",
   "execution_count": null,
   "metadata": {},
   "outputs": [],
   "source": []
  }
 ],
 "metadata": {
  "kernelspec": {
   "display_name": "Python 3",
   "language": "python",
   "name": "python3"
  },
  "language_info": {
   "codemirror_mode": {
    "name": "ipython",
    "version": 3
   },
   "file_extension": ".py",
   "mimetype": "text/x-python",
   "name": "python",
   "nbconvert_exporter": "python",
   "pygments_lexer": "ipython3",
   "version": "3.7.1"
  }
 },
 "nbformat": 4,
 "nbformat_minor": 2
}
